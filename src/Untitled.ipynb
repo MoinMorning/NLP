{
 "cells": [
  {
   "cell_type": "code",
   "execution_count": 1,
   "id": "65204251-f0ed-41da-98e3-f9fe922c3927",
   "metadata": {},
   "outputs": [],
   "source": [
    "person = \"Joe\""
   ]
  },
  {
   "cell_type": "code",
   "execution_count": 2,
   "id": "636039a7-0bb9-468d-9e1b-7eb61af7178a",
   "metadata": {},
   "outputs": [
    {
     "name": "stdout",
     "output_type": "stream",
     "text": [
      "my name is Joe\n"
     ]
    }
   ],
   "source": [
    "print(\"my name is {}\".format(person))"
   ]
  },
  {
   "cell_type": "code",
   "execution_count": 3,
   "id": "5f1c96da-c354-4b70-8e04-a397a42d6082",
   "metadata": {},
   "outputs": [
    {
     "name": "stdout",
     "output_type": "stream",
     "text": [
      "my name is Joe\n"
     ]
    }
   ],
   "source": [
    "print(f\"my name is {person}\")"
   ]
  },
  {
   "cell_type": "code",
   "execution_count": 4,
   "id": "64c1c365-c4b4-4095-a1fb-c559c16a0f3e",
   "metadata": {},
   "outputs": [],
   "source": [
    "myList = [0,1,2]"
   ]
  },
  {
   "cell_type": "code",
   "execution_count": null,
   "id": "4c272391-aa7e-4d58-8d9f-3d5d859d199b",
   "metadata": {},
   "outputs": [],
   "source": [
    "library = [**"
   ]
  }
 ],
 "metadata": {
  "kernelspec": {
   "display_name": "Python 3 (ipykernel)",
   "language": "python",
   "name": "python3"
  },
  "language_info": {
   "codemirror_mode": {
    "name": "ipython",
    "version": 3
   },
   "file_extension": ".py",
   "mimetype": "text/x-python",
   "name": "python",
   "nbconvert_exporter": "python",
   "pygments_lexer": "ipython3",
   "version": "3.11.7"
  }
 },
 "nbformat": 4,
 "nbformat_minor": 5
}
